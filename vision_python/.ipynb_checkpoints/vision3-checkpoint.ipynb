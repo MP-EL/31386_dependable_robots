{
 "cells": [
  {
   "cell_type": "code",
   "execution_count": 29,
   "id": "34f69950",
   "metadata": {},
   "outputs": [],
   "source": [
    "# Name: vision3\n",
    "# By viggo and mikkel and also mads D NN.\n",
    "import numpy as np \n",
    "import argparse \n",
    "import matplotlib.pyplot as plt\n",
    "import cv2\n",
    "\n",
    "\n",
    "low_apple_red = (4.6, 218.79, 211.905)\n",
    "high_apple_red = (3.95, 181, 171.12)\n",
    "low_apple_raw = (0.0, 150.0, 150.0)\n",
    "high_apple_raw = (15.0, 255.0, 255.0)\n",
    "\n",
    "stream = cv2.VideoCapture(-1) \n",
    "if (stream.isOpened()==False):\n",
    "    print(\"Error opeining video stream\")\n",
    "\n",
    "while(stream.isOpened()):\n",
    "    try:\n",
    "        ret, frame = stream.read()\n",
    "        \n",
    "        image_bgr = frame\n",
    "        image = image_bgr.copy()\n",
    "        image_hsv = cv2.cvtColor(image_bgr, cv2.COLOR_BGR2HSV)\n",
    "\n",
    "        mask_red = cv2.inRange(image_hsv,low_apple_red, high_apple_red)\n",
    "        mask_raw = cv2.inRange(image_hsv,low_apple_raw, high_apple_raw)\n",
    "\n",
    "        mask = mask_red + mask_raw\n",
    "\n",
    "        if ret == True:\n",
    "            cnts,_ = cv2.findContours(mask.copy(), cv2.RETR_EXTERNAL,cv2.CHAIN_APPROX_SIMPLE)\n",
    "            c_num=0\n",
    "            for i,c in enumerate(cnts):\n",
    "                # draw a circle enclosing the object\n",
    "                ((x, y), r) = cv2.minEnclosingCircle(c)\n",
    "                if r>34:\n",
    "                    c_num+=1\n",
    "                    cv2.circle(image, (int(x), int(y)), int(r), (0, 255, 0), 2)\n",
    "                    cv2.putText(image, \"#{}\".format(c_num), (int(x) - 10, int(y)), \n",
    "                        cv2.FONT_HERSHEY_SIMPLEX, 0.6, (255, 0, 0), 2)\n",
    "                else:\n",
    "                    continue\n",
    "\n",
    "            cv2.imshow('Frame',image)\n",
    "\n",
    "        if cv2.waitKey(25) & 0xff == ord('q'):\n",
    "            break\n",
    "    except:\n",
    "        print(\"something wrong:\")\n",
    "        stream.release()\n",
    "        cv2.destroyAllWindows()\n",
    "## Release video capture object \n",
    "stream.release()\n",
    "## Closes all video winwods\n",
    "cv2.destroyAllWindows()\n",
    "\n"
   ]
  },
  {
   "cell_type": "code",
   "execution_count": null,
   "id": "d590744a",
   "metadata": {},
   "outputs": [],
   "source": []
  }
 ],
 "metadata": {
  "kernelspec": {
   "display_name": "Python 3 (ipykernel)",
   "language": "python",
   "name": "python3"
  },
  "language_info": {
   "codemirror_mode": {
    "name": "ipython",
    "version": 3
   },
   "file_extension": ".py",
   "mimetype": "text/x-python",
   "name": "python",
   "nbconvert_exporter": "python",
   "pygments_lexer": "ipython3",
   "version": "3.9.7"
  }
 },
 "nbformat": 4,
 "nbformat_minor": 5
}
