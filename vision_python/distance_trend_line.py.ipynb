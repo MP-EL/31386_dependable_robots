{
 "cells": [
  {
   "cell_type": "code",
   "execution_count": 11,
   "id": "62c54ab3",
   "metadata": {},
   "outputs": [],
   "source": [
    "import sys\n",
    "import cv2 as cv\n",
    "import numpy as np\n",
    "from scipy import optimize\n",
    "import matplotlib.pyplot as plt\n",
    "\n",
    "def func1():\n",
    "    radius_arr = []\n",
    "    lenght = [15,30,45,60,75,90,105,120,135,150]\n",
    "    low_apple_red = (4.6, 218.79, 211.905)\n",
    "    high_apple_red = (3.95, 181, 171.12)\n",
    "    low_apple_raw = (0.0, 150.0, 150.0)\n",
    "    high_apple_raw = (15.0, 255.0, 255.0)\n",
    "\n",
    "    x_position  = np.array([])\n",
    "    y_position  = np.array([])\n",
    "    radius_array= np.array([])\n",
    "    radius_arr = []\n",
    "\n",
    "    for index,value in enumerate(lenght):\n",
    "        filename = f'/home/viggo/Desktop/10. semester/31386_dependable_robots/vision_python/{value}.png'\n",
    "\n",
    "        # Loads an image\n",
    "        src = cv.imread(cv.samples.findFile(filename), cv.IMREAD_COLOR)\n",
    "        # Check if image is loaded fine\n",
    "        \n",
    "        image_hsv = cv.cvtColor(src, cv.COLOR_BGR2HSV)\n",
    "        mask_red = cv.inRange(image_hsv,low_apple_red, high_apple_red)\n",
    "        mask_raw = cv.inRange(image_hsv,low_apple_raw, high_apple_raw)\n",
    "\n",
    "        mask = mask_red + mask_raw\n",
    "\n",
    "        cnts,_ = cv.findContours(mask.copy(), cv.RETR_EXTERNAL,cv.CHAIN_APPROX_SIMPLE)\n",
    "        c_num=0\n",
    "\n",
    "        for i,c in enumerate(cnts):\n",
    "            # draw a circle enclosing the object\n",
    "            ((x, y), r) = cv.minEnclosingCircle(c)\n",
    "            if r>5:\n",
    "                c_num+=1\n",
    "                cv.circle(src, (int(x), int(y)), int(r), (0, 255, 0), 2)\n",
    "                cv.putText(src, \"#{}\".format(c_num), (int(x) - 10, int(y)), \n",
    "                    cv.FONT_HERSHEY_SIMPLEX, 0.6, (255, 0, 0), 2)\n",
    "                print(r)\n",
    "                radius_arr.append(r)\n",
    "            else:\n",
    "                continue\n",
    "        # np.append(x,x_position)\n",
    "        # np.append(y,y_position)\n",
    "        \n",
    "        cv.imshow('Frame',src)\n",
    "        cv.waitKey(0)\n",
    "    cv.destroyAllWindows()\n",
    "    return radius_arr,lenght\n",
    "\n",
    "def func2(lenght,radius_array):\n",
    "    A = np.vstack([np.ones(len(lenght)), lenght]).T\n",
    "    print(A)\n",
    "    print(radius_array)\n",
    "\n",
    "    radius_arr = np.array(radius_array)\n",
    "    radius_arr = radius_arr[:, np.newaxis]\n",
    "    print(radius_arr)\n",
    "\n",
    "    alpha = np.dot(np.dot(np.linalg.inv(np.dot(A.T, A)), A.T), radius_arr)\n",
    "    print(alpha)\n",
    "\n",
    "    # plt.figure(figsize = (10,8))\n",
    "    plt.plot(lenght, radius_arr, 'b.')\n",
    "    plt.plot(lenght, alpha[1]*lenght + alpha[0], 'r')\n",
    "    plt.xlabel('x')\n",
    "    plt.ylabel('y')\n",
    "    plt.show()"
   ]
  },
  {
   "cell_type": "code",
   "execution_count": 12,
   "id": "e8f3a352",
   "metadata": {},
   "outputs": [
    {
     "name": "stdout",
     "output_type": "stream",
     "text": [
      "84.48686218261719\n",
      "42.885799407958984\n",
      "28.52952003479004\n",
      "22.011646270751953\n",
      "17.42092514038086\n",
      "14.54518985748291\n",
      "12.534539222717285\n",
      "10.7928466796875\n",
      "9.617792129516602\n",
      "8.544321060180664\n",
      "[[  1.  15.]\n",
      " [  1.  30.]\n",
      " [  1.  45.]\n",
      " [  1.  60.]\n",
      " [  1.  75.]\n",
      " [  1.  90.]\n",
      " [  1. 105.]\n",
      " [  1. 120.]\n",
      " [  1. 135.]\n",
      " [  1. 150.]]\n",
      "[84.48686218261719, 42.885799407958984, 28.52952003479004, 22.011646270751953, 17.42092514038086, 14.54518985748291, 12.534539222717285, 10.7928466796875, 9.617792129516602, 8.544321060180664]\n",
      "[[84.48686218]\n",
      " [42.88579941]\n",
      " [28.52952003]\n",
      " [22.01164627]\n",
      " [17.42092514]\n",
      " [14.54518986]\n",
      " [12.53453922]\n",
      " [10.79284668]\n",
      " [ 9.61779213]\n",
      " [ 8.54432106]]\n",
      "[[59.68192234]\n",
      " [-0.41872701]]\n"
     ]
    },
    {
     "data": {
      "image/png": "[encoded data removed]",
      "text/plain": [
       "<Figure size 432x288 with 1 Axes>"
      ]
     },
     "metadata": {
      "needs_background": "light"
     },
     "output_type": "display_data"
    }
   ],
   "source": [
    "radius,length = func1()\n",
    "func2(length,radius)"
   ]
  }
 ],
 "metadata": {
  "kernelspec": {
   "display_name": "Python 3 (ipykernel)",
   "language": "python",
   "name": "python3"
  },
  "language_info": {
   "codemirror_mode": {
    "name": "ipython",
    "version": 3
   },
   "file_extension": ".py",
   "mimetype": "text/x-python",
   "name": "python",
   "nbconvert_exporter": "python",
   "pygments_lexer": "ipython3",
   "version": "3.9.7"
  }
 },
 "nbformat": 4,
 "nbformat_minor": 5
}
